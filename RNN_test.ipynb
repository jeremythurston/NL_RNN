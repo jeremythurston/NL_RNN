{
 "cells": [
  {
   "cell_type": "code",
   "execution_count": 3,
   "id": "37ed2763",
   "metadata": {},
   "outputs": [],
   "source": [
    "import time\n",
    "import build_model\n",
    "import load_data\n",
    "import plot_history"
   ]
  },
  {
   "cell_type": "code",
   "execution_count": null,
   "id": "e5b889f8",
   "metadata": {},
   "outputs": [],
   "source": [
    "# Load data\n",
    "filename = \"#####\"\n",
    "\n",
    "pts, train_in, train_out, test_in, test_out = load_data.load_data(filename)"
   ]
  },
  {
   "cell_type": "code",
   "execution_count": null,
   "id": "960c7b58",
   "metadata": {},
   "outputs": [],
   "source": [
    "# Build model\n",
    "lr = 1e-4\n",
    "window = 10\n",
    "\n",
    "model = build_model.build_model(pts, lr, window)"
   ]
  },
  {
   "cell_type": "code",
   "execution_count": null,
   "id": "659cc981",
   "metadata": {},
   "outputs": [],
   "source": [
    "# Train model\n",
    "epochs = 100\n",
    "validation_split = 0.1\n",
    "\n",
    "start = time.time()\n",
    "\n",
    "history = model.fit(\n",
    "    train_in, train_out, validation_split=validation_split, epochs=epochs\n",
    ")\n",
    "\n",
    "end = time.time()\n",
    "print(f\"Done training in {end - start:.2f} seconds.\")"
   ]
  },
  {
   "cell_type": "code",
   "execution_count": null,
   "id": "82a0c4e0",
   "metadata": {},
   "outputs": [],
   "source": [
    "# Plot results\n",
    "plot_history.plot_history(history)"
   ]
  },
  {
   "cell_type": "code",
   "execution_count": null,
   "id": "56d811d3",
   "metadata": {},
   "outputs": [],
   "source": [
    "# Predict data\n",
    "prediction = model.predict(x)"
   ]
  }
 ],
 "metadata": {
  "interpreter": {
   "hash": "92ddb4577615dc6bc87e2eacf3d4e43431cdfc0b825490da08155240a4e9716a"
  },
  "kernelspec": {
   "display_name": "Python 3.9.1 ('base')",
   "language": "python",
   "name": "python3"
  },
  "language_info": {
   "codemirror_mode": {
    "name": "ipython",
    "version": 3
   },
   "file_extension": ".py",
   "mimetype": "text/x-python",
   "name": "python",
   "nbconvert_exporter": "python",
   "pygments_lexer": "ipython3",
   "version": "3.9.1"
  }
 },
 "nbformat": 4,
 "nbformat_minor": 5
}
