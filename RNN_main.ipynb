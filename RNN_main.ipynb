{
 "cells": [
  {
   "cell_type": "markdown",
   "metadata": {},
   "source": [
    "# Imports"
   ]
  },
  {
   "cell_type": "code",
   "execution_count": 2,
   "metadata": {},
   "outputs": [],
   "source": [
    "import time\n",
    "import pynlo\n",
    "from load_data import load_data\n",
    "from generate_data import generate_data\n",
    "from train_models import train_models, train_best"
   ]
  },
  {
   "cell_type": "markdown",
   "metadata": {},
   "source": [
    "# Generate data\n",
    "`generate_data()` runs `PyNLO` for each given parameter and saves the temporal/spectral inputs/output evolution in `DATA_DIR`"
   ]
  },
  {
   "cell_type": "code",
   "execution_count": 3,
   "metadata": {},
   "outputs": [
    {
     "name": "stderr",
     "output_type": "stream",
     "text": [
      "  3%|▎         | 1/32 [00:17<08:50, 17.11s/it]"
     ]
    }
   ],
   "source": [
    "DATA_DIR = f\"./testing_data/nlse_time-{int(time.time())}/\"\n",
    "LOG_DIR = \"logs/\"\n",
    "\n",
    "generate_data(DATA_DIR)"
   ]
  },
  {
   "cell_type": "markdown",
   "metadata": {},
   "source": [
    "# Train models\n",
    "`keras.tuner.RandomSearch()` iterates randomly over hyperparameters and runs a model for each. `train_models()` runs a given amount of these models and returns the best one. `train_best()` immediately follows, training and returning the best performing model. "
   ]
  },
  {
   "cell_type": "code",
   "execution_count": 2,
   "metadata": {},
   "outputs": [
    {
     "name": "stdout",
     "output_type": "stream",
     "text": [
      "Input data shape: (1024, 10, 1024)\n",
      "Output data shape: (1024, 110, 1024)\n"
     ]
    }
   ],
   "source": [
    "# for testing\n",
    "# DATA_DIR = \"./testing_data/nlse_time-1657843201/\"\n",
    "# LOG_DIR = \"logs/\"\n",
    "\n",
    "x_train, y_train, x_val, y_val, x_test, y_test = load_data(\n",
    "    DATA_DIR=DATA_DIR, \n",
    "    validation_split=0.2, \n",
    "    test_split=0.2\n",
    ")"
   ]
  },
  {
   "cell_type": "code",
   "execution_count": 3,
   "metadata": {},
   "outputs": [
    {
     "name": "stdout",
     "output_type": "stream",
     "text": [
      "Trial 1 Complete [00h 00m 42s]\n",
      "mse: 2.830995617841836e-05\n",
      "\n",
      "Best mse So Far: 2.830995617841836e-05\n",
      "Total elapsed time: 00h 00m 42s\n",
      "INFO:tensorflow:Oracle triggered exit\n"
     ]
    }
   ],
   "source": [
    "tuner, hps = train_models(\n",
    "    DATA_DIR=DATA_DIR, \n",
    "    LOG_DIR=LOG_DIR, \n",
    "    x_train=x_train, \n",
    "    y_train=y_train, \n",
    "    validation_data=(x_val, y_val), \n",
    "    epochs=10, \n",
    "    batch_size=32\n",
    ")"
   ]
  },
  {
   "cell_type": "code",
   "execution_count": 7,
   "metadata": {},
   "outputs": [
    {
     "name": "stdout",
     "output_type": "stream",
     "text": [
      "Epoch 1/10\n",
      "20/20 [==============================] - 5s 171ms/step - loss: 0.2497 - mse: 0.2497 - mae: 0.4997\n",
      "Epoch 2/10\n",
      "20/20 [==============================] - 3s 172ms/step - loss: 0.2494 - mse: 0.2494 - mae: 0.4993\n",
      "Epoch 3/10\n",
      "20/20 [==============================] - 4s 178ms/step - loss: 0.2489 - mse: 0.2489 - mae: 0.4989\n",
      "Epoch 4/10\n",
      "20/20 [==============================] - 4s 179ms/step - loss: 0.2481 - mse: 0.2481 - mae: 0.4980\n",
      "Epoch 5/10\n",
      "20/20 [==============================] - 4s 213ms/step - loss: 0.2408 - mse: 0.2408 - mae: 0.4906\n",
      "Epoch 6/10\n",
      "20/20 [==============================] - 3s 168ms/step - loss: 0.0969 - mse: 0.0969 - mae: 0.2574\n",
      "Epoch 7/10\n",
      "20/20 [==============================] - 4s 187ms/step - loss: 2.8699e-05 - mse: 2.8699e-05 - mae: 3.6252e-04\n",
      "Epoch 8/10\n",
      "20/20 [==============================] - 3s 171ms/step - loss: 2.8310e-05 - mse: 2.8310e-05 - mae: 2.5179e-04\n",
      "Epoch 9/10\n",
      "20/20 [==============================] - 4s 180ms/step - loss: 2.8310e-05 - mse: 2.8310e-05 - mae: 2.5174e-04\n",
      "Epoch 10/10\n",
      "20/20 [==============================] - 3s 175ms/step - loss: 2.8310e-05 - mse: 2.8310e-05 - mae: 2.5171e-04\n"
     ]
    },
    {
     "ename": "KeyError",
     "evalue": "'val_mse'",
     "output_type": "error",
     "traceback": [
      "\u001b[0;31m---------------------------------------------------------------------------\u001b[0m",
      "\u001b[0;31mKeyError\u001b[0m                                  Traceback (most recent call last)",
      "\u001b[0;32m<ipython-input-7-ac04739f4fe7>\u001b[0m in \u001b[0;36m<module>\u001b[0;34m\u001b[0m\n\u001b[0;32m----> 1\u001b[0;31m model = train_best(\n\u001b[0m\u001b[1;32m      2\u001b[0m     \u001b[0mDATA_DIR\u001b[0m\u001b[0;34m=\u001b[0m\u001b[0mDATA_DIR\u001b[0m\u001b[0;34m,\u001b[0m\u001b[0;34m\u001b[0m\u001b[0;34m\u001b[0m\u001b[0m\n\u001b[1;32m      3\u001b[0m     \u001b[0mLOG_DIR\u001b[0m\u001b[0;34m=\u001b[0m\u001b[0mLOG_DIR\u001b[0m\u001b[0;34m,\u001b[0m\u001b[0;34m\u001b[0m\u001b[0;34m\u001b[0m\u001b[0m\n\u001b[1;32m      4\u001b[0m     \u001b[0mx_train\u001b[0m\u001b[0;34m=\u001b[0m\u001b[0mx_train\u001b[0m\u001b[0;34m,\u001b[0m\u001b[0;34m\u001b[0m\u001b[0;34m\u001b[0m\u001b[0m\n\u001b[1;32m      5\u001b[0m     \u001b[0my_train\u001b[0m\u001b[0;34m=\u001b[0m\u001b[0my_train\u001b[0m\u001b[0;34m,\u001b[0m\u001b[0;34m\u001b[0m\u001b[0;34m\u001b[0m\u001b[0m\n",
      "\u001b[0;32m~/Documents/NL_RNN/train_models.py\u001b[0m in \u001b[0;36mtrain_best\u001b[0;34m(DATA_DIR, LOG_DIR, x_train, y_train, validation_data, tuner, hps, epochs)\u001b[0m\n\u001b[1;32m    153\u001b[0m \u001b[0;34m\u001b[0m\u001b[0m\n\u001b[1;32m    154\u001b[0m     \u001b[0mplt\u001b[0m\u001b[0;34m.\u001b[0m\u001b[0mplot\u001b[0m\u001b[0;34m(\u001b[0m\u001b[0mhistory\u001b[0m\u001b[0;34m.\u001b[0m\u001b[0mhistory\u001b[0m\u001b[0;34m[\u001b[0m\u001b[0;34m\"mse\"\u001b[0m\u001b[0;34m]\u001b[0m\u001b[0;34m,\u001b[0m \u001b[0mlabel\u001b[0m\u001b[0;34m=\u001b[0m\u001b[0;34m\"Training\"\u001b[0m\u001b[0;34m)\u001b[0m\u001b[0;34m\u001b[0m\u001b[0;34m\u001b[0m\u001b[0m\n\u001b[0;32m--> 155\u001b[0;31m     \u001b[0mplt\u001b[0m\u001b[0;34m.\u001b[0m\u001b[0mplot\u001b[0m\u001b[0;34m(\u001b[0m\u001b[0mhistory\u001b[0m\u001b[0;34m.\u001b[0m\u001b[0mhistory\u001b[0m\u001b[0;34m[\u001b[0m\u001b[0;34m\"validation_mse\"\u001b[0m\u001b[0;34m]\u001b[0m\u001b[0;34m,\u001b[0m \u001b[0mlabel\u001b[0m\u001b[0;34m=\u001b[0m\u001b[0;34m\"Validation\"\u001b[0m\u001b[0;34m)\u001b[0m\u001b[0;34m\u001b[0m\u001b[0;34m\u001b[0m\u001b[0m\n\u001b[0m\u001b[1;32m    156\u001b[0m \u001b[0;34m\u001b[0m\u001b[0m\n\u001b[1;32m    157\u001b[0m     \u001b[0mplt\u001b[0m\u001b[0;34m.\u001b[0m\u001b[0mxlabel\u001b[0m\u001b[0;34m(\u001b[0m\u001b[0;34m\"Epochs\"\u001b[0m\u001b[0;34m)\u001b[0m\u001b[0;34m\u001b[0m\u001b[0;34m\u001b[0m\u001b[0m\n",
      "\u001b[0;31mKeyError\u001b[0m: 'val_mse'"
     ]
    },
    {
     "data": {
      "image/png": "[encoded data removed]",
      "text/plain": "<Figure size 576x432 with 1 Axes>"
     },
     "metadata": {
      "needs_background": "light",
      "transient": {}
     },
     "output_type": "display_data"
    }
   ],
   "source": [
    "model = train_best(\n",
    "    DATA_DIR=DATA_DIR, \n",
    "    LOG_DIR=LOG_DIR, \n",
    "    x_train=x_train, \n",
    "    y_train=y_train, \n",
    "    validation_data=(x_val, y_val), \n",
    "    tuner=tuner, \n",
    "    hps=hps, \n",
    "    epochs=10\n",
    ")"
   ]
  },
  {
   "cell_type": "markdown",
   "metadata": {},
   "source": [
    "# Make predictions\n",
    "Makes a prediction with the best performing model on a data set that is outside the initial training data."
   ]
  },
  {
   "cell_type": "markdown",
   "metadata": {},
   "source": [
    "## Generate pulse"
   ]
  },
  {
   "cell_type": "code",
   "execution_count": 9,
   "metadata": {},
   "outputs": [
    {
     "ename": "NameError",
     "evalue": "name 'pynlo' is not defined",
     "output_type": "error",
     "traceback": [
      "\u001b[0;31m---------------------------------------------------------------------------\u001b[0m",
      "\u001b[0;31mNameError\u001b[0m                                 Traceback (most recent call last)",
      "\u001b[0;32m<ipython-input-9-596e9b5bc30a>\u001b[0m in \u001b[0;36m<module>\u001b[0;34m\u001b[0m\n\u001b[1;32m      9\u001b[0m \u001b[0mepp\u001b[0m \u001b[0;34m=\u001b[0m \u001b[0;36m50e-12\u001b[0m\u001b[0;34m\u001b[0m\u001b[0;34m\u001b[0m\u001b[0m\n\u001b[1;32m     10\u001b[0m \u001b[0;34m\u001b[0m\u001b[0m\n\u001b[0;32m---> 11\u001b[0;31m pulse = pynlo.light.DerivedPulses.SechPulse(\n\u001b[0m\u001b[1;32m     12\u001b[0m     \u001b[0mpower\u001b[0m\u001b[0;34m=\u001b[0m\u001b[0;36m1\u001b[0m\u001b[0;34m,\u001b[0m\u001b[0;34m\u001b[0m\u001b[0;34m\u001b[0m\u001b[0m\n\u001b[1;32m     13\u001b[0m     \u001b[0mT0_ps\u001b[0m\u001b[0;34m=\u001b[0m\u001b[0mfwhm\u001b[0m \u001b[0;34m/\u001b[0m \u001b[0;36m1.76\u001b[0m\u001b[0;34m,\u001b[0m\u001b[0;34m\u001b[0m\u001b[0;34m\u001b[0m\u001b[0m\n",
      "\u001b[0;31mNameError\u001b[0m: name 'pynlo' is not defined"
     ]
    }
   ],
   "source": [
    "# Parameters\n",
    "fwhm = 0.18\n",
    "wl = 1030\n",
    "window = 10.0\n",
    "gdd = 0\n",
    "tod = 0\n",
    "points = 2**10\n",
    "frep = 1\n",
    "epp = 50e-12\n",
    "\n",
    "pulse = pynlo.light.DerivedPulses.SechPulse(\n",
    "    power=1,\n",
    "    T0_ps=fwhm / 1.76,\n",
    "    center_wavelength_nm=wl,\n",
    "    time_window_ps=window,\n",
    "    GDD=gdd,\n",
    "    TOD=tod,\n",
    "    NPTS=points,\n",
    "    frep_MHz=frep,\n",
    "    power_is_avg=False,\n",
    ")\n",
    "pulse.set_epp(epp)\n",
    "\n",
    "model.predict()"
   ]
  },
  {
   "cell_type": "code",
   "execution_count": null,
   "metadata": {},
   "outputs": [],
   "source": [
    "    test_pulse, freqs = get_pulse()\n",
    "    prediction = model.predict(test_pulse)\n",
    "    ev = freqs * 0.004136  # THz to eV\n",
    "\n",
    "    plt.style.use([\"science\", \"nature\", \"bright\"])\n",
    "\n",
    "    _, ((ax1, ax2), (ax3, ax4)) = plt.subplots(2, 2)\n",
    "\n",
    "    ax1.plot(ev, np.absolute(np.transpose(test_pulse[0, :])))\n",
    "    ax1.set_xlabel(\"Photon energy (eV)\")\n",
    "    ax1.set_title(\"Prediction input\")\n",
    "\n",
    "    ax2.imshow(prediction[0, :, :], aspect=\"auto\", cmap=\"jet\")\n",
    "    ax2.set_title(\"Prediction output\")\n",
    "\n",
    "    ax3.plot(x_train[0, 0, :] / np.max(x_train[0, 0, :]))\n",
    "    ax3.set_title(\"Train input\")\n",
    "\n",
    "    ax4.imshow(np.absolute(y_train[0, :, :]), aspect=\"auto\", cmap=\"jet\")\n",
    "    ax4.set_title(\"Train output\")\n",
    "\n",
    "    plt.show()"
   ]
  },
  {
   "cell_type": "markdown",
   "metadata": {},
   "source": [
    "# Plot results"
   ]
  },
  {
   "cell_type": "code",
   "execution_count": null,
   "metadata": {},
   "outputs": [],
   "source": []
  }
 ],
 "metadata": {
  "kernelspec": {
   "display_name": "Python 3",
   "language": "python",
   "name": "python3"
  },
  "language_info": {
   "codemirror_mode": {
    "name": "ipython",
    "version": 3
   },
   "file_extension": ".py",
   "mimetype": "text/x-python",
   "name": "python",
   "nbconvert_exporter": "python",
   "pygments_lexer": "ipython3",
   "version": "3.8.5"
  },
  "orig_nbformat": 2
 },
 "nbformat": 4,
 "nbformat_minor": 2
}