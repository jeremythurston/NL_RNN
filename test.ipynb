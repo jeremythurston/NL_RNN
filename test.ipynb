{
 "cells": [
  {
   "cell_type": "code",
   "execution_count": 1,
   "metadata": {},
   "outputs": [],
   "source": [
    "import pynlo\n",
    "import numpy as np"
   ]
  },
  {
   "cell_type": "code",
   "execution_count": 4,
   "metadata": {},
   "outputs": [
    {
     "name": "stdout",
     "output_type": "stream",
     "text": [
      "(1024,)\n"
     ]
    }
   ],
   "source": [
    "# Parameters\n",
    "fwhm = 0.18\n",
    "wl = 1030\n",
    "window = 10.0\n",
    "gdd = 0\n",
    "tod = 0\n",
    "points = 2**10\n",
    "frep = 1\n",
    "epp = 50e-12\n",
    "rnn_window = 10\n",
    "\n",
    "pulse = pynlo.light.DerivedPulses.SechPulse(\n",
    "    power=1,\n",
    "    T0_ps=fwhm / 1.76,\n",
    "    center_wavelength_nm=wl,\n",
    "    time_window_ps=window,\n",
    "    GDD=gdd,\n",
    "    TOD=tod,\n",
    "    NPTS=points,\n",
    "    frep_MHz=frep,\n",
    "    power_is_avg=False,\n",
    ")\n",
    "pulse.set_epp(epp)\n",
    "\n",
    "print(pulse.AT.shape)"
   ]
  },
  {
   "cell_type": "code",
   "execution_count": 5,
   "metadata": {},
   "outputs": [
    {
     "name": "stdout",
     "output_type": "stream",
     "text": [
      "(10, 1024)\n"
     ]
    }
   ],
   "source": [
    "pulse_profile = pulse.AT\n",
    "\n",
    "pulse_profile = pulse_profile / np.max(np.absolute(pulse_profile))\n",
    "pulse_profile = np.repeat(pulse_profile[np.newaxis, :], rnn_window, axis=0)\n",
    "print(pulse_profile.shape)"
   ]
  },
  {
   "cell_type": "code",
   "execution_count": 2,
   "metadata": {},
   "outputs": [
    {
     "data": {
      "text/plain": "array([[0.33735885, 0.72479501, 0.34873675, 0.9268981 , 0.25384896,\n        0.24708474, 0.98159019, 0.59216875],\n       [0.77542916, 0.9973755 , 0.13863648, 0.96945037, 0.54940719,\n        0.5907197 , 0.44591732, 0.48288143],\n       [0.9594333 , 0.65642591, 0.11712933, 0.20632133, 0.08472911,\n        0.04842405, 0.87552004, 0.6555771 ],\n       [0.8837111 , 0.58083744, 0.61471251, 0.01902558, 0.34739133,\n        0.34219721, 0.53492668, 0.31842147],\n       [0.59489117, 0.74252064, 0.06946366, 0.41911112, 0.23969575,\n        0.72576838, 0.93429236, 0.53402548],\n       [0.6158788 , 0.08697156, 0.96197429, 0.48648084, 0.80525921,\n        0.76999585, 0.42629124, 0.43837352]])"
     },
     "execution_count": 2,
     "metadata": {},
     "output_type": "execute_result"
    }
   ],
   "source": [
    "a = np.random.random((6, 8))\n",
    "a"
   ]
  },
  {
   "cell_type": "code",
   "execution_count": 4,
   "metadata": {},
   "outputs": [
    {
     "data": {
      "text/plain": "array([[0.33735885, 0.72479501, 0.34873675, 0.9268981 , 0.25384896,\n        0.24708474, 0.98159019, 0.59216875],\n       [0.77542916, 0.9973755 , 0.13863648, 0.96945037, 0.54940719,\n        0.5907197 , 0.44591732, 0.48288143]])"
     },
     "execution_count": 4,
     "metadata": {},
     "output_type": "execute_result"
    }
   ],
   "source": [
    "a[:2, :]"
   ]
  },
  {
   "cell_type": "code",
   "execution_count": 3,
   "metadata": {},
   "outputs": [
    {
     "data": {
      "text/plain": "array([[0.9594333 , 0.65642591, 0.11712933, 0.20632133, 0.08472911,\n        0.04842405, 0.87552004, 0.6555771 ],\n       [0.8837111 , 0.58083744, 0.61471251, 0.01902558, 0.34739133,\n        0.34219721, 0.53492668, 0.31842147]])"
     },
     "execution_count": 3,
     "metadata": {},
     "output_type": "execute_result"
    }
   ],
   "source": [
    "a[2:4, :]"
   ]
  },
  {
   "cell_type": "code",
   "execution_count": 6,
   "metadata": {},
   "outputs": [
    {
     "data": {
      "text/plain": "array([[0.59489117, 0.74252064, 0.06946366, 0.41911112, 0.23969575,\n        0.72576838, 0.93429236, 0.53402548],\n       [0.6158788 , 0.08697156, 0.96197429, 0.48648084, 0.80525921,\n        0.76999585, 0.42629124, 0.43837352]])"
     },
     "execution_count": 6,
     "metadata": {},
     "output_type": "execute_result"
    }
   ],
   "source": [
    "a[-2:, :]"
   ]
  }
 ],
 "metadata": {
  "kernelspec": {
   "display_name": "Python 3",
   "language": "python",
   "name": "python3"
  },
  "language_info": {
   "codemirror_mode": {
    "name": "ipython",
    "version": 3
   },
   "file_extension": ".py",
   "mimetype": "text/x-python",
   "name": "python",
   "nbconvert_exporter": "python",
   "pygments_lexer": "ipython3",
   "version": "3.8.5"
  },
  "orig_nbformat": 2
 },
 "nbformat": 4,
 "nbformat_minor": 2
}