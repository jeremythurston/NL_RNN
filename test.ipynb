{
 "cells": [
  {
   "cell_type": "code",
   "execution_count": 2,
   "metadata": {},
   "outputs": [],
   "source": [
    "import pynlo\n",
    "import numpy as np"
   ]
  },
  {
   "cell_type": "code",
   "execution_count": 4,
   "metadata": {},
   "outputs": [
    {
     "name": "stdout",
     "output_type": "stream",
     "text": [
      "(1024,)\n"
     ]
    }
   ],
   "source": [
    "# Parameters\n",
    "fwhm = 0.18\n",
    "wl = 1030\n",
    "window = 10.0\n",
    "gdd = 0\n",
    "tod = 0\n",
    "points = 2**10\n",
    "frep = 1\n",
    "epp = 50e-12\n",
    "rnn_window = 10\n",
    "\n",
    "pulse = pynlo.light.DerivedPulses.SechPulse(\n",
    "    power=1,\n",
    "    T0_ps=fwhm / 1.76,\n",
    "    center_wavelength_nm=wl,\n",
    "    time_window_ps=window,\n",
    "    GDD=gdd,\n",
    "    TOD=tod,\n",
    "    NPTS=points,\n",
    "    frep_MHz=frep,\n",
    "    power_is_avg=False,\n",
    ")\n",
    "pulse.set_epp(epp)\n",
    "\n",
    "print(pulse.AT.shape)"
   ]
  },
  {
   "cell_type": "code",
   "execution_count": 5,
   "metadata": {},
   "outputs": [
    {
     "name": "stdout",
     "output_type": "stream",
     "text": [
      "(10, 1024)\n"
     ]
    }
   ],
   "source": [
    "pulse_profile = pulse.AT\n",
    "\n",
    "pulse_profile = pulse_profile / np.max(np.absolute(pulse_profile))\n",
    "pulse_profile = np.repeat(pulse_profile[np.newaxis, :], rnn_window, axis=0)\n",
    "print(pulse_profile.shape)"
   ]
  },
  {
   "cell_type": "code",
   "execution_count": null,
   "metadata": {},
   "outputs": [],
   "source": []
  }
 ],
 "metadata": {
  "kernelspec": {
   "display_name": "Python 3.8.5 64-bit ('miniconda3': virtualenv)",
   "metadata": {
    "interpreter": {
     "hash": "18bb2325505f5c8e8fa888ab4c2e0cae0b3e29874077e0bca144fb4540615e20"
    }
   },
   "name": "python3"
  },
  "language_info": {
   "codemirror_mode": {
    "name": "ipython",
    "version": 3
   },
   "file_extension": ".py",
   "mimetype": "text/x-python",
   "name": "python",
   "nbconvert_exporter": "python",
   "pygments_lexer": "ipython3",
   "version": "3.8.5"
  },
  "orig_nbformat": 2
 },
 "nbformat": 4,
 "nbformat_minor": 2
}